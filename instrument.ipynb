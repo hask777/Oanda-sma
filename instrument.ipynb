{
 "cells": [
  {
   "cell_type": "code",
   "execution_count": 7,
   "metadata": {},
   "outputs": [],
   "source": [
    "import requests\n",
    "import cred\n"
   ]
  },
  {
   "cell_type": "code",
   "execution_count": 8,
   "metadata": {},
   "outputs": [],
   "source": [
    "session = requests.Session()"
   ]
  },
  {
   "cell_type": "code",
   "execution_count": 9,
   "metadata": {},
   "outputs": [],
   "source": [
    "instrument = \"EUR_USD\"\n",
    "count = 10\n",
    "granularity = \"H1\""
   ]
  },
  {
   "cell_type": "code",
   "execution_count": 11,
   "metadata": {},
   "outputs": [],
   "source": [
    "url = f\"{cred.OANDA_URL}/instruments/{instrument}/candles\""
   ]
  },
  {
   "cell_type": "code",
   "execution_count": 12,
   "metadata": {},
   "outputs": [
    {
     "data": {
      "text/plain": [
       "'https://api-fxpractice.oanda.com/v3/instruments/EUR_USD/candles'"
      ]
     },
     "execution_count": 12,
     "metadata": {},
     "output_type": "execute_result"
    }
   ],
   "source": [
    "url"
   ]
  },
  {
   "cell_type": "code",
   "execution_count": 13,
   "metadata": {},
   "outputs": [],
   "source": [
    "params = dict(\n",
    "    count = count,\n",
    "    granularity = granularity,\n",
    "    price = \"MBA\"\n",
    ")"
   ]
  },
  {
   "cell_type": "code",
   "execution_count": 14,
   "metadata": {},
   "outputs": [
    {
     "data": {
      "text/plain": [
       "{'count': 10, 'granularity': 'H1', 'price': 'MBA'}"
      ]
     },
     "execution_count": 14,
     "metadata": {},
     "output_type": "execute_result"
    }
   ],
   "source": [
    "params"
   ]
  },
  {
   "cell_type": "code",
   "execution_count": 17,
   "metadata": {},
   "outputs": [],
   "source": [
    "response = session.get(url, params=params, headers=cred.SECURE_HEADER).json()"
   ]
  },
  {
   "cell_type": "code",
   "execution_count": 18,
   "metadata": {},
   "outputs": [
    {
     "data": {
      "text/plain": [
       "{'instrument': 'EUR_USD',\n",
       " 'granularity': 'H1',\n",
       " 'candles': [{'complete': True,\n",
       "   'volume': 6040,\n",
       "   'time': '2023-03-10T12:00:00.000000000Z',\n",
       "   'bid': {'o': '1.05888', 'h': '1.05979', 'l': '1.05799', 'c': '1.05937'},\n",
       "   'mid': {'o': '1.05896', 'h': '1.05986', 'l': '1.05807', 'c': '1.05944'},\n",
       "   'ask': {'o': '1.05904', 'h': '1.05994', 'l': '1.05814', 'c': '1.05951'}},\n",
       "  {'complete': True,\n",
       "   'volume': 18221,\n",
       "   'time': '2023-03-10T13:00:00.000000000Z',\n",
       "   'bid': {'o': '1.05936', 'h': '1.06434', 'l': '1.05811', 'c': '1.06209'},\n",
       "   'mid': {'o': '1.05942', 'h': '1.06442', 'l': '1.05818', 'c': '1.06217'},\n",
       "   'ask': {'o': '1.05949', 'h': '1.06451', 'l': '1.05825', 'c': '1.06225'}},\n",
       "  {'complete': True,\n",
       "   'volume': 22882,\n",
       "   'time': '2023-03-10T14:00:00.000000000Z',\n",
       "   'bid': {'o': '1.06210', 'h': '1.06741', 'l': '1.06114', 'c': '1.06657'},\n",
       "   'mid': {'o': '1.06218', 'h': '1.06748', 'l': '1.06122', 'c': '1.06664'},\n",
       "   'ask': {'o': '1.06225', 'h': '1.06755', 'l': '1.06128', 'c': '1.06672'}},\n",
       "  {'complete': True,\n",
       "   'volume': 17739,\n",
       "   'time': '2023-03-10T15:00:00.000000000Z',\n",
       "   'bid': {'o': '1.06662', 'h': '1.07002', 'l': '1.06662', 'c': '1.06867'},\n",
       "   'mid': {'o': '1.06670', 'h': '1.07010', 'l': '1.06670', 'c': '1.06874'},\n",
       "   'ask': {'o': '1.06678', 'h': '1.07017', 'l': '1.06677', 'c': '1.06881'}},\n",
       "  {'complete': True,\n",
       "   'volume': 14102,\n",
       "   'time': '2023-03-10T16:00:00.000000000Z',\n",
       "   'bid': {'o': '1.06866', 'h': '1.06868', 'l': '1.06545', 'c': '1.06581'},\n",
       "   'mid': {'o': '1.06873', 'h': '1.06875', 'l': '1.06552', 'c': '1.06588'},\n",
       "   'ask': {'o': '1.06880', 'h': '1.06882', 'l': '1.06560', 'c': '1.06596'}},\n",
       "  {'complete': True,\n",
       "   'volume': 8703,\n",
       "   'time': '2023-03-10T17:00:00.000000000Z',\n",
       "   'bid': {'o': '1.06583', 'h': '1.06733', 'l': '1.06549', 'c': '1.06678'},\n",
       "   'mid': {'o': '1.06590', 'h': '1.06740', 'l': '1.06557', 'c': '1.06686'},\n",
       "   'ask': {'o': '1.06598', 'h': '1.06746', 'l': '1.06564', 'c': '1.06693'}},\n",
       "  {'complete': True,\n",
       "   'volume': 7063,\n",
       "   'time': '2023-03-10T18:00:00.000000000Z',\n",
       "   'bid': {'o': '1.06678', 'h': '1.06719', 'l': '1.06389', 'c': '1.06424'},\n",
       "   'mid': {'o': '1.06686', 'h': '1.06727', 'l': '1.06397', 'c': '1.06430'},\n",
       "   'ask': {'o': '1.06694', 'h': '1.06735', 'l': '1.06405', 'c': '1.06437'}},\n",
       "  {'complete': True,\n",
       "   'volume': 8885,\n",
       "   'time': '2023-03-10T19:00:00.000000000Z',\n",
       "   'bid': {'o': '1.06426', 'h': '1.06511', 'l': '1.06352', 'c': '1.06428'},\n",
       "   'mid': {'o': '1.06432', 'h': '1.06518', 'l': '1.06360', 'c': '1.06436'},\n",
       "   'ask': {'o': '1.06439', 'h': '1.06525', 'l': '1.06368', 'c': '1.06444'}},\n",
       "  {'complete': True,\n",
       "   'volume': 7876,\n",
       "   'time': '2023-03-10T20:00:00.000000000Z',\n",
       "   'bid': {'o': '1.06428', 'h': '1.06475', 'l': '1.06360', 'c': '1.06365'},\n",
       "   'mid': {'o': '1.06436', 'h': '1.06482', 'l': '1.06368', 'c': '1.06372'},\n",
       "   'ask': {'o': '1.06443', 'h': '1.06488', 'l': '1.06374', 'c': '1.06380'}},\n",
       "  {'complete': True,\n",
       "   'volume': 2020,\n",
       "   'time': '2023-03-10T21:00:00.000000000Z',\n",
       "   'bid': {'o': '1.06366', 'h': '1.06410', 'l': '1.06360', 'c': '1.06370'},\n",
       "   'mid': {'o': '1.06372', 'h': '1.06417', 'l': '1.06368', 'c': '1.06386'},\n",
       "   'ask': {'o': '1.06379', 'h': '1.06425', 'l': '1.06376', 'c': '1.06402'}}]}"
      ]
     },
     "execution_count": 18,
     "metadata": {},
     "output_type": "execute_result"
    }
   ],
   "source": [
    "response"
   ]
  },
  {
   "cell_type": "code",
   "execution_count": null,
   "metadata": {},
   "outputs": [],
   "source": []
  }
 ],
 "metadata": {
  "kernelspec": {
   "display_name": "venv",
   "language": "python",
   "name": "python3"
  },
  "language_info": {
   "codemirror_mode": {
    "name": "ipython",
    "version": 3
   },
   "file_extension": ".py",
   "mimetype": "text/x-python",
   "name": "python",
   "nbconvert_exporter": "python",
   "pygments_lexer": "ipython3",
   "version": "3.11.2"
  },
  "orig_nbformat": 4
 },
 "nbformat": 4,
 "nbformat_minor": 2
}
